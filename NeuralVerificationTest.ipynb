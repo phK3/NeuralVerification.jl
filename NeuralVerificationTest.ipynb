{
 "cells": [
  {
   "cell_type": "code",
   "execution_count": 1,
   "id": "2c951f91-2455-4a3f-b09f-0747926ac62f",
   "metadata": {},
   "outputs": [],
   "source": [
    "include(\"./src/NeuralVerification.jl\")\n",
    "\n",
    "using .NeuralVerification, LazySets"
   ]
  },
  {
   "cell_type": "code",
   "execution_count": 2,
   "id": "c55ded7c-b76c-40b4-b5ba-adad41bd0620",
   "metadata": {},
   "outputs": [],
   "source": [
    "nnet = read_nnet(\"./test/networks/small_nnet.nnet\")\n",
    "\n",
    "input_set = Hyperrectangle(low=[-1.], high=[1.])\n",
    "output_set = Hyperrectangle(low=[-1.], high=[70.])\n",
    "\n",
    "prob = Problem(nnet, input_set, output_set);"
   ]
  },
  {
   "cell_type": "code",
   "execution_count": 3,
   "id": "e4ec3d0c-20f6-4d2b-bbe1-a7c26ad95878",
   "metadata": {},
   "outputs": [
    {
     "data": {
      "text/plain": [
       "3-element Array{Main.NeuralVerification.Layer,1}:\n",
       " Main.NeuralVerification.Layer{Main.NeuralVerification.ReLU,Float64}([1.0; 1.0], [1.5, 1.5], Main.NeuralVerification.ReLU())\n",
       " Main.NeuralVerification.Layer{Main.NeuralVerification.ReLU,Float64}([2.0 2.0; 2.0 2.0], [2.5, 2.5], Main.NeuralVerification.ReLU())\n",
       " Main.NeuralVerification.Layer{Main.NeuralVerification.Id,Float64}([3.0 3.0], [3.5], Main.NeuralVerification.Id())"
      ]
     },
     "execution_count": 3,
     "metadata": {},
     "output_type": "execute_result"
    }
   ],
   "source": [
    "nnet.layers"
   ]
  },
  {
   "cell_type": "code",
   "execution_count": 4,
   "id": "c019b334-1ac1-48d0-a09b-eedd88e5edf1",
   "metadata": {},
   "outputs": [
    {
     "data": {
      "text/plain": [
       "4-element Array{Main.NeuralVerification.SymbolicInterval{HPolytope{Float64,Array{Float64,1}}},1}:\n",
       " Main.NeuralVerification.SymbolicInterval{HPolytope{Float64,Array{Float64,1}}}([1.0 0.0], [1.0 0.0], HPolytope{Float64,Array{Float64,1}}(HalfSpace{Float64,Array{Float64,1}}[HalfSpace{Float64,Array{Float64,1}}([1.0], 1.0), HalfSpace{Float64,Array{Float64,1}}([-1.0], 1.0)]))\n",
       " Main.NeuralVerification.SymbolicInterval{HPolytope{Float64,Array{Float64,1}}}([1.0 1.5; 1.0 1.5], [1.0 1.5; 1.0 1.5], HPolytope{Float64,Array{Float64,1}}(HalfSpace{Float64,Array{Float64,1}}[HalfSpace{Float64,Array{Float64,1}}([1.0], 1.0), HalfSpace{Float64,Array{Float64,1}}([-1.0], 1.0)]))\n",
       " Main.NeuralVerification.SymbolicInterval{HPolytope{Float64,Array{Float64,1}}}([4.0 8.5; 4.0 8.5], [4.0 8.5; 4.0 8.5], HPolytope{Float64,Array{Float64,1}}(HalfSpace{Float64,Array{Float64,1}}[HalfSpace{Float64,Array{Float64,1}}([1.0], 1.0), HalfSpace{Float64,Array{Float64,1}}([-1.0], 1.0)]))\n",
       " Main.NeuralVerification.SymbolicInterval{HPolytope{Float64,Array{Float64,1}}}([24.0 54.5], [24.0 54.5], HPolytope{Float64,Array{Float64,1}}(HalfSpace{Float64,Array{Float64,1}}[HalfSpace{Float64,Array{Float64,1}}([1.0], 1.0), HalfSpace{Float64,Array{Float64,1}}([-1.0], 1.0)]))"
      ]
     },
     "execution_count": 4,
     "metadata": {},
     "output_type": "execute_result"
    }
   ],
   "source": [
    "reach = solve(DeepPoly(), prob)"
   ]
  },
  {
   "cell_type": "code",
   "execution_count": 5,
   "id": "ca59d1ee-01fc-49f0-970b-320465202b8e",
   "metadata": {},
   "outputs": [],
   "source": [
    "import .NeuralVerification: init_deep_poly_symbolic_interval, bounds, upper, lower, n_nodes"
   ]
  },
  {
   "cell_type": "code",
   "execution_count": 6,
   "id": "b5c95557-cdf7-46eb-8b42-008ed8facb71",
   "metadata": {},
   "outputs": [
    {
     "name": "stdout",
     "output_type": "stream",
     "text": [
      "## Layer 0 ##\n",
      "symlo_1 ∈ (-1.0, 1.0), symhi_1 ∈ (-1.0, 1.0)\n",
      "## Layer 1 ##\n",
      "symlo_1 ∈ (0.5, 2.5), symhi_1 ∈ (0.5, 2.5)\n",
      "symlo_2 ∈ (0.5, 2.5), symhi_2 ∈ (0.5, 2.5)\n",
      "## Layer 2 ##\n",
      "symlo_1 ∈ (4.5, 12.5), symhi_1 ∈ (4.5, 12.5)\n",
      "symlo_2 ∈ (4.5, 12.5), symhi_2 ∈ (4.5, 12.5)\n",
      "## Layer 3 ##\n",
      "symlo_1 ∈ (30.5, 78.5), symhi_1 ∈ (30.5, 78.5)\n"
     ]
    }
   ],
   "source": [
    "for (index, r) in enumerate(reach)\n",
    "    println(\"## Layer $(index - 1) ##\")\n",
    "    \n",
    "    for d in 1:dim(r)\n",
    "        symlo_bounds = bounds(lower(r), d)\n",
    "        symhi_bounds = bounds(upper(r), d)\n",
    "        println(\"symlo_$d ∈ $symlo_bounds, symhi_$d ∈ $symhi_bounds\")\n",
    "    end\n",
    "end"
   ]
  },
  {
   "cell_type": "markdown",
   "id": "69ab559e-5234-4ce3-9b77-925182a4ac36",
   "metadata": {},
   "source": [
    "# ACAS Test\n",
    "\n",
    "Sanity check to see, if Julia implementation is correct.\n",
    "Perform one symbolic forward pass through the first ACAS network and see, if the result matches the result of the python implementation."
   ]
  },
  {
   "cell_type": "code",
   "execution_count": 11,
   "id": "751e3814-7e12-46b1-aae4-31cce9481335",
   "metadata": {},
   "outputs": [
    {
     "name": "stdout",
     "output_type": "stream",
     "text": [
      "Academic license - for non-commercial use only - expires 2022-07-17\n"
     ]
    },
    {
     "name": "stderr",
     "output_type": "stream",
     "text": [
      "WARNING: replacing module NeuralPriorityOptimizer.\n",
      "WARNING: ignoring conflicting import of NeuralVerification.TOL into NeuralPriorityOptimizer\n"
     ]
    }
   ],
   "source": [
    "# import NeuralPriorityOptimizer: get_acas_sets, optimize_linear, PriorityOptimizerParameters\n",
    "include(\"../NeuralPriorityOptimizer.jl/src/NeuralPriorityOptimizer.jl\")\n",
    "using .NeuralPriorityOptimizer"
   ]
  },
  {
   "cell_type": "code",
   "execution_count": 8,
   "id": "7a05286e-b1ce-428a-9162-25af6437f03b",
   "metadata": {},
   "outputs": [],
   "source": [
    "acas = read_nnet(\"../NeuralPriorityOptimizer.jl\\\\networks\\\\CAS\\\\ACASXU_experimental_v2a_1_1.nnet\")\n",
    "\n",
    "input_set, output_set = get_acas_sets(1)\n",
    "\n",
    "prob_acas = Problem(acas, input_set, output_set);"
   ]
  },
  {
   "cell_type": "code",
   "execution_count": 9,
   "id": "16a1af71-a0e8-4379-a5ee-fbdde0835b55",
   "metadata": {},
   "outputs": [
    {
     "name": "stdout",
     "output_type": "stream",
     "text": [
      "symlo_1 ∈ (-7212.914208494338, -6928.804304024606), symhi_1 ∈ (27168.53293697694, 28068.438094652603)\n",
      "symlo_2 ∈ (-12696.567257156463, -12168.824517303163), symhi_2 ∈ (31282.962650589365, 32318.010593996358)\n",
      "symlo_3 ∈ (-8764.558778098499, -8431.682802031262), symhi_3 ∈ (32206.964320863874, 33240.39346864382)\n",
      "symlo_4 ∈ (-17107.991080592954, -16484.088615046967), symhi_4 ∈ (29344.055613875775, 30318.165941502662)\n",
      "symlo_5 ∈ (-11385.0064470153, -11013.51560234393), symhi_5 ∈ (29584.612365268185, 30536.836726927173)\n"
     ]
    }
   ],
   "source": [
    "reach = solve(DeepPoly(), prob_acas);\n",
    "\n",
    "r = reach[end]\n",
    "for d in 1:5\n",
    "    symlo_bounds = bounds(lower(r), d)\n",
    "    symhi_bounds = bounds(upper(r), d)\n",
    "    println(\"symlo_$d ∈ $symlo_bounds, symhi_$d ∈ $symhi_bounds\")\n",
    "end"
   ]
  },
  {
   "cell_type": "code",
   "execution_count": 10,
   "id": "1b79e4d5-c51e-4f86-b6ea-e4639c9c1aa5",
   "metadata": {},
   "outputs": [],
   "source": [
    "params = PriorityOptimizerParameters(max_steps=10, stop_frequency=1, verbosity=1, stop_gap=0.001)\n",
    "coeffs = zeros(5)\n",
    "coeffs[1] = 1.;"
   ]
  },
  {
   "cell_type": "code",
   "execution_count": 38,
   "id": "d0d02300-4b31-4b9a-8927-4882c133b091",
   "metadata": {},
   "outputs": [],
   "source": [
    "function NeuralPriorityOptimizer.optimize_linear(network, input_set, coeffs, params; maximize=true, solver=DeepPoly())\n",
    "    min_sign_flip = maximize ? 1.0 : -1.0\n",
    "    approximate_optimize_cell = cell -> min_sign_flip * ρ(min_sign_flip .* coeffs, forward_network(solver, network, cell))\n",
    "    achievable_value = cell -> (cell.center, compute_linear_objective(network, cell.center, coeffs))\n",
    "    return general_priority_optimization(input_set, approximate_optimize_cell, achievable_value, params, maximize)\n",
    "end"
   ]
  },
  {
   "cell_type": "code",
   "execution_count": 11,
   "id": "10889461-f922-4e4f-bc03-75f30c49daff",
   "metadata": {},
   "outputs": [
    {
     "ename": "MethodError",
     "evalue": "MethodError: no method matching forward_linear(::DeepPoly, ::Main.NeuralVerification.Layer{Main.NeuralVerification.ReLU,Float64}, ::Hyperrectangle{Float64,Array{Float64,1},Array{Float64,1}})\nClosest candidates are:\n  forward_linear(!Matched::NeuralVerification.ExactReach, !Matched::NeuralVerification.Layer, ::Any) at C:\\Users\\phili\\.juliapro\\JuliaPro_v1.4.2-1\\packages\\NeuralVerification\\w3flf\\src\\reachability\\exactReach.jl:33\n  forward_linear(!Matched::NeuralVerification.MaxSens, !Matched::NeuralVerification.Layer, ::Hyperrectangle) at C:\\Users\\phili\\.juliapro\\JuliaPro_v1.4.2-1\\packages\\NeuralVerification\\w3flf\\src\\reachability\\maxSens.jl:42\n  forward_linear(!Matched::NeuralVerification.Ai2{HPolytope}, !Matched::NeuralVerification.Layer{NeuralVerification.ReLU,N} where N<:Number, ::AbstractPolytope) at C:\\Users\\phili\\.juliapro\\JuliaPro_v1.4.2-1\\packages\\NeuralVerification\\w3flf\\src\\reachability\\ai2.jl:60\n  ...",
     "output_type": "error",
     "traceback": [
      "MethodError: no method matching forward_linear(::DeepPoly, ::Main.NeuralVerification.Layer{Main.NeuralVerification.ReLU,Float64}, ::Hyperrectangle{Float64,Array{Float64,1},Array{Float64,1}})\nClosest candidates are:\n  forward_linear(!Matched::NeuralVerification.ExactReach, !Matched::NeuralVerification.Layer, ::Any) at C:\\Users\\phili\\.juliapro\\JuliaPro_v1.4.2-1\\packages\\NeuralVerification\\w3flf\\src\\reachability\\exactReach.jl:33\n  forward_linear(!Matched::NeuralVerification.MaxSens, !Matched::NeuralVerification.Layer, ::Hyperrectangle) at C:\\Users\\phili\\.juliapro\\JuliaPro_v1.4.2-1\\packages\\NeuralVerification\\w3flf\\src\\reachability\\maxSens.jl:42\n  forward_linear(!Matched::NeuralVerification.Ai2{HPolytope}, !Matched::NeuralVerification.Layer{NeuralVerification.ReLU,N} where N<:Number, ::AbstractPolytope) at C:\\Users\\phili\\.juliapro\\JuliaPro_v1.4.2-1\\packages\\NeuralVerification\\w3flf\\src\\reachability\\ai2.jl:60\n  ...",
      "",
      "Stacktrace:",
      " [1] forward_layer(::DeepPoly, ::Main.NeuralVerification.Layer{Main.NeuralVerification.ReLU,Float64}, ::Hyperrectangle{Float64,Array{Float64,1},Array{Float64,1}}) at C:\\Users\\phili\\.juliapro\\JuliaPro_v1.4.2-1\\packages\\NeuralVerification\\w3flf\\src\\reachability\\utils\\reachability.jl:58",
      " [2] _forward_network(::DeepPoly, ::Network, ::Hyperrectangle{Float64,Array{Float64,1},Array{Float64,1}}) at C:\\Users\\phili\\.juliapro\\JuliaPro_v1.4.2-1\\packages\\NeuralVerification\\w3flf\\src\\reachability\\utils\\reachability.jl:26",
      " [3] #forward_network#78 at C:\\Users\\phili\\.juliapro\\JuliaPro_v1.4.2-1\\packages\\NeuralVerification\\w3flf\\src\\reachability\\utils\\reachability.jl:18 [inlined]",
      " [4] forward_network at C:\\Users\\phili\\.juliapro\\JuliaPro_v1.4.2-1\\packages\\NeuralVerification\\w3flf\\src\\reachability\\utils\\reachability.jl:13 [inlined]",
      " [5] (::NeuralPriorityOptimizer.var\"#44#46\"{DeepPoly,Network,Array{Float64,1},Float64})(::Hyperrectangle{Float64,Array{Float64,1},Array{Float64,1}}) at C:\\Users\\phili\\.juliapro\\JuliaPro_v1.4.2-1\\packages\\NeuralPriorityOptimizer\\kjhiM\\src\\optimization_wrappers.jl:25",
      " [6] (::NeuralPriorityOptimizer.var\"#31#32\"{NeuralPriorityOptimizer.var\"#44#46\"{DeepPoly,Network,Array{Float64,1},Float64},DataStructures.PriorityQueue{Any,Any,Base.Order.ReverseOrdering{Base.Order.ForwardOrdering}}})(::Hyperrectangle{Float64,Array{Float64,1},Array{Float64,1}}) at .\\none:0",
      " [7] iterate at .\\generator.jl:47 [inlined]",
      " [8] collect(::Base.Generator{DataStructures.Queue{Hyperrectangle},NeuralPriorityOptimizer.var\"#31#32\"{NeuralPriorityOptimizer.var\"#44#46\"{DeepPoly,Network,Array{Float64,1},Float64},DataStructures.PriorityQueue{Any,Any,Base.Order.ReverseOrdering{Base.Order.ForwardOrdering}}}}) at .\\array.jl:665",
      " [9] general_priority_optimization(::Hyperrectangle{Float64,Array{Float64,1},Array{Float64,1}}, ::NeuralPriorityOptimizer.var\"#44#46\"{DeepPoly,Network,Array{Float64,1},Float64}, ::NeuralPriorityOptimizer.var\"#45#47\"{Network,Array{Float64,1}}, ::PriorityOptimizerParameters, ::Float64, ::Float64, ::typeof(NeuralPriorityOptimizer.split_largest_interval)) at C:\\Users\\phili\\.juliapro\\JuliaPro_v1.4.2-1\\packages\\NeuralPriorityOptimizer\\kjhiM\\src\\optimization_core.jl:36",
      " [10] general_priority_optimization(::Hyperrectangle{Float64,Array{Float64,1},Array{Float64,1}}, ::NeuralPriorityOptimizer.var\"#44#46\"{DeepPoly,Network,Array{Float64,1},Float64}, ::NeuralPriorityOptimizer.var\"#45#47\"{Network,Array{Float64,1}}, ::PriorityOptimizerParameters, ::Bool; bound_threshold_realizable::Float64, bound_threshold_approximate::Float64, split::Function) at C:\\Users\\phili\\.juliapro\\JuliaPro_v1.4.2-1\\packages\\NeuralPriorityOptimizer\\kjhiM\\src\\optimization_core.jl:131",
      " [11] general_priority_optimization at C:\\Users\\phili\\.juliapro\\JuliaPro_v1.4.2-1\\packages\\NeuralPriorityOptimizer\\kjhiM\\src\\optimization_core.jl:130 [inlined]",
      " [12] #optimize_linear#43 at C:\\Users\\phili\\.juliapro\\JuliaPro_v1.4.2-1\\packages\\NeuralPriorityOptimizer\\kjhiM\\src\\optimization_wrappers.jl:27 [inlined]",
      " [13] macro expansion at .\\util.jl:234 [inlined]",
      " [14] top-level scope at .\\In[11]:1"
     ]
    }
   ],
   "source": [
    "time = @elapsed x_star, lb, ub, steps = optimize_linear(acas, input_set, coeffs, params, solver=DeepPoly())"
   ]
  },
  {
   "cell_type": "code",
   "execution_count": null,
   "id": "56ce182f-346b-4a6f-9dfa-171121d8627e",
   "metadata": {},
   "outputs": [],
   "source": []
  }
 ],
 "metadata": {
  "kernelspec": {
   "display_name": "JuliaPro_v1.4.2-1 1.4.2",
   "language": "julia",
   "name": "juliapro_v1.4.2-1-1.4"
  },
  "language_info": {
   "file_extension": ".jl",
   "mimetype": "application/julia",
   "name": "julia",
   "version": "1.4.2"
  }
 },
 "nbformat": 4,
 "nbformat_minor": 5
}
